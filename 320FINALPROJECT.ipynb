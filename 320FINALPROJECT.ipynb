{
 "cells": [
  {
   "cell_type": "markdown",
   "id": "a5a22860",
   "metadata": {},
   "source": [
    "  **CMSC320 FINAL PROJECT** \n",
    "\n",
    "\n",
    " **Introduction:** \n",
    " \n",
    "In this data science tutorial, I will be using data from the Women's Tennis Association, which is the principal organizing body of women's professional tennis in order to analyze how this information can be used to display data. \n",
    " \n",
    "This data shows us the rankings and matches of Women's tennis players from 2022 which can be used to display many indiciative stats in Women's tennis. A person might want to analyze this data if they were interested in understanding the attriubtes that went into Women's tennis. \n"
   ]
  },
  {
   "cell_type": "markdown",
   "id": "ecb89b5f",
   "metadata": {},
   "source": [
    " **About the Data:** \n",
    "\n",
    "I have chosen to use a dataset that can be found at https://github.com/JeffSackmann/tennis_wta. Here I took the data set that shows us the WTA tennis matches from 2022. \n"
   ]
  },
  {
   "cell_type": "markdown",
   "id": "5d56ff42",
   "metadata": {},
   "source": [
    "**Setup the Packages** \n",
    "\n",
    "These are the packages that we will be using."
   ]
  },
  {
   "cell_type": "code",
   "execution_count": 3,
   "id": "141393a9",
   "metadata": {
    "scrolled": true
   },
   "outputs": [],
   "source": [
    "import numpy as np\n",
    "import pandas as pd\n",
    "import matplotlib.pyplot as plt\n",
    "import seaborn as sns\n",
    "import random\n",
    "from collections import Counter\n",
    "import warnings\n",
    "warnings.filterwarnings('ignore')\n",
    "%matplotlib inline"
   ]
  },
  {
   "cell_type": "markdown",
   "id": "87035960",
   "metadata": {},
   "source": [
    "This is one of the datasets that I had mentioned earlier that displays the womens tennis matches from 2022."
   ]
  },
  {
   "cell_type": "code",
   "execution_count": 4,
   "id": "97be9c88",
   "metadata": {},
   "outputs": [
    {
     "data": {
      "text/html": [
       "<div>\n",
       "<style scoped>\n",
       "    .dataframe tbody tr th:only-of-type {\n",
       "        vertical-align: middle;\n",
       "    }\n",
       "\n",
       "    .dataframe tbody tr th {\n",
       "        vertical-align: top;\n",
       "    }\n",
       "\n",
       "    .dataframe thead th {\n",
       "        text-align: right;\n",
       "    }\n",
       "</style>\n",
       "<table border=\"1\" class=\"dataframe\">\n",
       "  <thead>\n",
       "    <tr style=\"text-align: right;\">\n",
       "      <th></th>\n",
       "      <th>tourney_id</th>\n",
       "      <th>tourney_name</th>\n",
       "      <th>surface</th>\n",
       "      <th>draw_size</th>\n",
       "      <th>tourney_level</th>\n",
       "      <th>tourney_date</th>\n",
       "      <th>match_num</th>\n",
       "      <th>winner_id</th>\n",
       "      <th>winner_seed</th>\n",
       "      <th>winner_entry</th>\n",
       "      <th>...</th>\n",
       "      <th>l_1stIn</th>\n",
       "      <th>l_1stWon</th>\n",
       "      <th>l_2ndWon</th>\n",
       "      <th>l_SvGms</th>\n",
       "      <th>l_bpSaved</th>\n",
       "      <th>l_bpFaced</th>\n",
       "      <th>winner_rank</th>\n",
       "      <th>winner_rank_points</th>\n",
       "      <th>loser_rank</th>\n",
       "      <th>loser_rank_points</th>\n",
       "    </tr>\n",
       "  </thead>\n",
       "  <tbody>\n",
       "    <tr>\n",
       "      <th>0</th>\n",
       "      <td>2022-2014</td>\n",
       "      <td>Adelaide 1</td>\n",
       "      <td>Hard</td>\n",
       "      <td>30</td>\n",
       "      <td>P</td>\n",
       "      <td>20220103</td>\n",
       "      <td>300</td>\n",
       "      <td>202458</td>\n",
       "      <td>1</td>\n",
       "      <td>NaN</td>\n",
       "      <td>...</td>\n",
       "      <td>19.0</td>\n",
       "      <td>16.0</td>\n",
       "      <td>11.0</td>\n",
       "      <td>8.0</td>\n",
       "      <td>0.0</td>\n",
       "      <td>3.0</td>\n",
       "      <td>1.0</td>\n",
       "      <td>7582.0</td>\n",
       "      <td>14.0</td>\n",
       "      <td>2855.0</td>\n",
       "    </tr>\n",
       "    <tr>\n",
       "      <th>1</th>\n",
       "      <td>2022-2014</td>\n",
       "      <td>Adelaide 1</td>\n",
       "      <td>Hard</td>\n",
       "      <td>30</td>\n",
       "      <td>P</td>\n",
       "      <td>20220103</td>\n",
       "      <td>299</td>\n",
       "      <td>202458</td>\n",
       "      <td>1</td>\n",
       "      <td>NaN</td>\n",
       "      <td>...</td>\n",
       "      <td>39.0</td>\n",
       "      <td>27.0</td>\n",
       "      <td>9.0</td>\n",
       "      <td>9.0</td>\n",
       "      <td>2.0</td>\n",
       "      <td>5.0</td>\n",
       "      <td>1.0</td>\n",
       "      <td>7582.0</td>\n",
       "      <td>9.0</td>\n",
       "      <td>3786.0</td>\n",
       "    </tr>\n",
       "    <tr>\n",
       "      <th>2</th>\n",
       "      <td>2022-2014</td>\n",
       "      <td>Adelaide 1</td>\n",
       "      <td>Hard</td>\n",
       "      <td>30</td>\n",
       "      <td>P</td>\n",
       "      <td>20220103</td>\n",
       "      <td>298</td>\n",
       "      <td>214981</td>\n",
       "      <td>7</td>\n",
       "      <td>NaN</td>\n",
       "      <td>...</td>\n",
       "      <td>45.0</td>\n",
       "      <td>29.0</td>\n",
       "      <td>12.0</td>\n",
       "      <td>10.0</td>\n",
       "      <td>7.0</td>\n",
       "      <td>11.0</td>\n",
       "      <td>14.0</td>\n",
       "      <td>2855.0</td>\n",
       "      <td>105.0</td>\n",
       "      <td>771.0</td>\n",
       "    </tr>\n",
       "    <tr>\n",
       "      <th>3</th>\n",
       "      <td>2022-2014</td>\n",
       "      <td>Adelaide 1</td>\n",
       "      <td>Hard</td>\n",
       "      <td>30</td>\n",
       "      <td>P</td>\n",
       "      <td>20220103</td>\n",
       "      <td>297</td>\n",
       "      <td>202458</td>\n",
       "      <td>1</td>\n",
       "      <td>NaN</td>\n",
       "      <td>...</td>\n",
       "      <td>54.0</td>\n",
       "      <td>34.0</td>\n",
       "      <td>7.0</td>\n",
       "      <td>9.0</td>\n",
       "      <td>7.0</td>\n",
       "      <td>9.0</td>\n",
       "      <td>1.0</td>\n",
       "      <td>7582.0</td>\n",
       "      <td>12.0</td>\n",
       "      <td>2971.0</td>\n",
       "    </tr>\n",
       "    <tr>\n",
       "      <th>4</th>\n",
       "      <td>2022-2014</td>\n",
       "      <td>Adelaide 1</td>\n",
       "      <td>Hard</td>\n",
       "      <td>30</td>\n",
       "      <td>P</td>\n",
       "      <td>20220103</td>\n",
       "      <td>296</td>\n",
       "      <td>216347</td>\n",
       "      <td>5</td>\n",
       "      <td>NaN</td>\n",
       "      <td>...</td>\n",
       "      <td>45.0</td>\n",
       "      <td>30.0</td>\n",
       "      <td>12.0</td>\n",
       "      <td>12.0</td>\n",
       "      <td>6.0</td>\n",
       "      <td>11.0</td>\n",
       "      <td>9.0</td>\n",
       "      <td>3786.0</td>\n",
       "      <td>27.0</td>\n",
       "      <td>2166.0</td>\n",
       "    </tr>\n",
       "  </tbody>\n",
       "</table>\n",
       "<p>5 rows × 49 columns</p>\n",
       "</div>"
      ],
      "text/plain": [
       "  tourney_id tourney_name surface  draw_size tourney_level  tourney_date  \\\n",
       "0  2022-2014   Adelaide 1    Hard         30             P      20220103   \n",
       "1  2022-2014   Adelaide 1    Hard         30             P      20220103   \n",
       "2  2022-2014   Adelaide 1    Hard         30             P      20220103   \n",
       "3  2022-2014   Adelaide 1    Hard         30             P      20220103   \n",
       "4  2022-2014   Adelaide 1    Hard         30             P      20220103   \n",
       "\n",
       "   match_num  winner_id winner_seed winner_entry  ... l_1stIn l_1stWon  \\\n",
       "0        300     202458           1          NaN  ...    19.0     16.0   \n",
       "1        299     202458           1          NaN  ...    39.0     27.0   \n",
       "2        298     214981           7          NaN  ...    45.0     29.0   \n",
       "3        297     202458           1          NaN  ...    54.0     34.0   \n",
       "4        296     216347           5          NaN  ...    45.0     30.0   \n",
       "\n",
       "   l_2ndWon l_SvGms  l_bpSaved  l_bpFaced winner_rank winner_rank_points  \\\n",
       "0      11.0     8.0        0.0        3.0         1.0             7582.0   \n",
       "1       9.0     9.0        2.0        5.0         1.0             7582.0   \n",
       "2      12.0    10.0        7.0       11.0        14.0             2855.0   \n",
       "3       7.0     9.0        7.0        9.0         1.0             7582.0   \n",
       "4      12.0    12.0        6.0       11.0         9.0             3786.0   \n",
       "\n",
       "  loser_rank loser_rank_points  \n",
       "0       14.0            2855.0  \n",
       "1        9.0            3786.0  \n",
       "2      105.0             771.0  \n",
       "3       12.0            2971.0  \n",
       "4       27.0            2166.0  \n",
       "\n",
       "[5 rows x 49 columns]"
      ]
     },
     "execution_count": 4,
     "metadata": {},
     "output_type": "execute_result"
    }
   ],
   "source": [
    "matches2022 = pd.read_csv('wta_matches_2022.csv')\n",
    "matches2022.head()"
   ]
  },
  {
   "cell_type": "markdown",
   "id": "24340e44",
   "metadata": {},
   "source": [
    "This is another dataset that I will be using which displays the womens tennis players from 2022. "
   ]
  },
  {
   "cell_type": "code",
   "execution_count": 5,
   "id": "d976968d",
   "metadata": {},
   "outputs": [
    {
     "data": {
      "text/html": [
       "<div>\n",
       "<style scoped>\n",
       "    .dataframe tbody tr th:only-of-type {\n",
       "        vertical-align: middle;\n",
       "    }\n",
       "\n",
       "    .dataframe tbody tr th {\n",
       "        vertical-align: top;\n",
       "    }\n",
       "\n",
       "    .dataframe thead th {\n",
       "        text-align: right;\n",
       "    }\n",
       "</style>\n",
       "<table border=\"1\" class=\"dataframe\">\n",
       "  <thead>\n",
       "    <tr style=\"text-align: right;\">\n",
       "      <th></th>\n",
       "      <th>player_id</th>\n",
       "      <th>name_first</th>\n",
       "      <th>name_last</th>\n",
       "      <th>hand</th>\n",
       "      <th>dob</th>\n",
       "      <th>ioc</th>\n",
       "      <th>height</th>\n",
       "      <th>wikidata_id</th>\n",
       "    </tr>\n",
       "  </thead>\n",
       "  <tbody>\n",
       "    <tr>\n",
       "      <th>0</th>\n",
       "      <td>113190</td>\n",
       "      <td>Bobby</td>\n",
       "      <td>Riggs</td>\n",
       "      <td>U</td>\n",
       "      <td>NaN</td>\n",
       "      <td>USA</td>\n",
       "      <td>NaN</td>\n",
       "      <td>NaN</td>\n",
       "    </tr>\n",
       "    <tr>\n",
       "      <th>1</th>\n",
       "      <td>200000</td>\n",
       "      <td>X</td>\n",
       "      <td>X</td>\n",
       "      <td>U</td>\n",
       "      <td>19000000.0</td>\n",
       "      <td>UNK</td>\n",
       "      <td>NaN</td>\n",
       "      <td>NaN</td>\n",
       "    </tr>\n",
       "    <tr>\n",
       "      <th>2</th>\n",
       "      <td>200001</td>\n",
       "      <td>Martina</td>\n",
       "      <td>Hingis</td>\n",
       "      <td>R</td>\n",
       "      <td>19800930.0</td>\n",
       "      <td>SUI</td>\n",
       "      <td>170.0</td>\n",
       "      <td>Q134720</td>\n",
       "    </tr>\n",
       "    <tr>\n",
       "      <th>3</th>\n",
       "      <td>200002</td>\n",
       "      <td>Mirjana</td>\n",
       "      <td>Lucic</td>\n",
       "      <td>R</td>\n",
       "      <td>19820309.0</td>\n",
       "      <td>CRO</td>\n",
       "      <td>181.0</td>\n",
       "      <td>Q239686</td>\n",
       "    </tr>\n",
       "    <tr>\n",
       "      <th>4</th>\n",
       "      <td>200003</td>\n",
       "      <td>Justine</td>\n",
       "      <td>Henin</td>\n",
       "      <td>R</td>\n",
       "      <td>19820601.0</td>\n",
       "      <td>BEL</td>\n",
       "      <td>167.0</td>\n",
       "      <td>Q11682</td>\n",
       "    </tr>\n",
       "  </tbody>\n",
       "</table>\n",
       "</div>"
      ],
      "text/plain": [
       "   player_id name_first name_last hand         dob  ioc  height wikidata_id\n",
       "0     113190      Bobby     Riggs    U         NaN  USA     NaN         NaN\n",
       "1     200000          X         X    U  19000000.0  UNK     NaN         NaN\n",
       "2     200001    Martina    Hingis    R  19800930.0  SUI   170.0     Q134720\n",
       "3     200002    Mirjana     Lucic    R  19820309.0  CRO   181.0     Q239686\n",
       "4     200003    Justine     Henin    R  19820601.0  BEL   167.0      Q11682"
      ]
     },
     "execution_count": 5,
     "metadata": {},
     "output_type": "execute_result"
    }
   ],
   "source": [
    "players = pd.read_csv('wta_players.csv')\n",
    "players.head()"
   ]
  },
  {
   "cell_type": "markdown",
   "id": "a6a156e9",
   "metadata": {},
   "source": [
    "I will also be using a dataset to display the 2022 WTA rankings. "
   ]
  },
  {
   "cell_type": "code",
   "execution_count": 6,
   "id": "5d33e6f9",
   "metadata": {},
   "outputs": [
    {
     "data": {
      "text/html": [
       "<div>\n",
       "<style scoped>\n",
       "    .dataframe tbody tr th:only-of-type {\n",
       "        vertical-align: middle;\n",
       "    }\n",
       "\n",
       "    .dataframe tbody tr th {\n",
       "        vertical-align: top;\n",
       "    }\n",
       "\n",
       "    .dataframe thead th {\n",
       "        text-align: right;\n",
       "    }\n",
       "</style>\n",
       "<table border=\"1\" class=\"dataframe\">\n",
       "  <thead>\n",
       "    <tr style=\"text-align: right;\">\n",
       "      <th></th>\n",
       "      <th>ranking_date</th>\n",
       "      <th>rank</th>\n",
       "      <th>player</th>\n",
       "      <th>points</th>\n",
       "      <th>tours</th>\n",
       "    </tr>\n",
       "  </thead>\n",
       "  <tbody>\n",
       "    <tr>\n",
       "      <th>0</th>\n",
       "      <td>20200106</td>\n",
       "      <td>1</td>\n",
       "      <td>202458</td>\n",
       "      <td>7851</td>\n",
       "      <td>15</td>\n",
       "    </tr>\n",
       "    <tr>\n",
       "      <th>1</th>\n",
       "      <td>20200106</td>\n",
       "      <td>2</td>\n",
       "      <td>201662</td>\n",
       "      <td>5525</td>\n",
       "      <td>18</td>\n",
       "    </tr>\n",
       "    <tr>\n",
       "      <th>2</th>\n",
       "      <td>20200106</td>\n",
       "      <td>3</td>\n",
       "      <td>201594</td>\n",
       "      <td>5462</td>\n",
       "      <td>17</td>\n",
       "    </tr>\n",
       "    <tr>\n",
       "      <th>3</th>\n",
       "      <td>20200106</td>\n",
       "      <td>4</td>\n",
       "      <td>211768</td>\n",
       "      <td>5311</td>\n",
       "      <td>16</td>\n",
       "    </tr>\n",
       "    <tr>\n",
       "      <th>4</th>\n",
       "      <td>20200106</td>\n",
       "      <td>5</td>\n",
       "      <td>202494</td>\n",
       "      <td>5075</td>\n",
       "      <td>21</td>\n",
       "    </tr>\n",
       "  </tbody>\n",
       "</table>\n",
       "</div>"
      ],
      "text/plain": [
       "   ranking_date  rank  player  points  tours\n",
       "0      20200106     1  202458    7851     15\n",
       "1      20200106     2  201662    5525     18\n",
       "2      20200106     3  201594    5462     17\n",
       "3      20200106     4  211768    5311     16\n",
       "4      20200106     5  202494    5075     21"
      ]
     },
     "execution_count": 6,
     "metadata": {},
     "output_type": "execute_result"
    }
   ],
   "source": [
    "ranks = pd.read_csv('wta_rankings_20s.csv')\n",
    "ranks.head()"
   ]
  },
  {
   "cell_type": "markdown",
   "id": "7e01ae33",
   "metadata": {},
   "source": [
    "**Exploratory Data Analysis** "
   ]
  },
  {
   "cell_type": "markdown",
   "id": "bfd75675",
   "metadata": {},
   "source": [
    "Players with the most Wins:\n",
    "\n",
    "Here I am seeing who the most dominant players in womens tennis and it can be seen that Smith has been the dominant player. "
   ]
  },
  {
   "cell_type": "code",
   "execution_count": 8,
   "id": "3cb91b0c",
   "metadata": {},
   "outputs": [
    {
     "data": {
      "image/png": "[encoded data removed]",
      "text/plain": [
       "<Figure size 720x432 with 1 Axes>"
      ]
     },
     "metadata": {
      "needs_background": "light"
     },
     "output_type": "display_data"
    }
   ],
   "source": [
    "colours = list()\n",
    "for i in range(0,10):\n",
    "    colours.append((random.random(), random.random(), random.random(),random.uniform(0.8,1)))\n",
    "players['name_last'].value_counts().head(20).plot.bar(color=colours,figsize=(10,6),title=\"Players with most wins\")\n",
    "plt.show()"
   ]
  },
  {
   "cell_type": "markdown",
   "id": "945a0354",
   "metadata": {},
   "source": [
    "**Hypothesis testing**\n",
    "\n",
    "\n",
    "Hand of Players: \n",
    "\n",
    "I want to test if there is a preferred hand for the majority of tennis players. We can clearly see that most of the players are right handed and there are many that are undetermined. "
   ]
  },
  {
   "cell_type": "code",
   "execution_count": 9,
   "id": "8a86247e",
   "metadata": {},
   "outputs": [
    {
     "data": {
      "image/png": "[encoded data removed]",
      "text/plain": [
       "<Figure size 720x432 with 1 Axes>"
      ]
     },
     "metadata": {
      "needs_background": "light"
     },
     "output_type": "display_data"
    }
   ],
   "source": [
    "players['hand'].value_counts().plot.bar(color={'#8470ff','#3cb371','#ff4500'},figsize=(10,6),title=\"Handedness of players\")\n",
    "plt.show()"
   ]
  },
  {
   "cell_type": "markdown",
   "id": "c366ff8b",
   "metadata": {},
   "source": [
    "Countries with most players in WTA: \n",
    "\n",
    "I want to test which countries have the most talented tennis players so see if the economic state of a country can influence the number of players from a country. After displaying th data in a bar graph I am able to denote that the countries with the most dominant tennis players come from the United States and Great Britian. In addition it can clearly be seen that the United States is ahead of other countries by a large margin."
   ]
  },
  {
   "cell_type": "code",
   "execution_count": 11,
   "id": "12436017",
   "metadata": {},
   "outputs": [
    {
     "data": {
      "image/png": "[encoded data removed]",
      "text/plain": [
       "<Figure size 720x432 with 1 Axes>"
      ]
     },
     "metadata": {
      "needs_background": "light"
     },
     "output_type": "display_data"
    }
   ],
   "source": [
    "colours = list()\n",
    "\n",
    "for i in range(0,10):\n",
    "    colours.append((random.random(), random.random(), random.random(),random.uniform(0.8,1)))\n",
    "players['ioc'].value_counts().head(20).plot.bar(color=colours,figsize=(10,6),title=\"Countries with most players in WTA\")\n",
    "plt.show()"
   ]
  },
  {
   "cell_type": "markdown",
   "id": "5b9582f0",
   "metadata": {},
   "source": [
    "**Conclusion \n",
    "\n",
    "\n",
    " The conclusions I can draw from my analysis range understanding who the dominant tennis players are in Womens Tennis Association and I am able to see the dominant hand that the women use to play with. Other analysis that we can see are the countries that produce the most talented tennis players. We cans see that the United States produces the best players, this is probably because of the economic wealth in the United States. Playeres are given the best resources to succeed. \n",
    "\n",
    "\n",
    "\n"
   ]
  }
 ],
 "metadata": {
  "kernelspec": {
   "display_name": "Python 3 (ipykernel)",
   "language": "python",
   "name": "python3"
  },
  "language_info": {
   "codemirror_mode": {
    "name": "ipython",
    "version": 3
   },
   "file_extension": ".py",
   "mimetype": "text/x-python",
   "name": "python",
   "nbconvert_exporter": "python",
   "pygments_lexer": "ipython3",
   "version": "3.9.12"
  }
 },
 "nbformat": 4,
 "nbformat_minor": 5
}
